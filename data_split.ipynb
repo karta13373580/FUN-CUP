{
 "cells": [
  {
   "cell_type": "code",
   "execution_count": 5,
   "metadata": {},
   "outputs": [],
   "source": [
    "import pandas as pd\n",
    "\n",
    "df=pd.read_csv('test_1130.csv')\n",
    "choice=df['選項']"
   ]
  },
  {
   "cell_type": "code",
   "execution_count": 6,
   "metadata": {},
   "outputs": [],
   "source": [
    "cnt=0\n",
    "A=list()\n",
    "B=list()\n",
    "C=list()\n",
    "D=list()\n",
    "for i in choice:\n",
    "    x=len(i)%4\n",
    "    y=int(len(i)/4)\n",
    "#     print(x,y)\n",
    "    if x!=0:\n",
    "        A.append(i[:y+1])\n",
    "        B.append(i[y:2*(y+1)])\n",
    "        C.append(i[2*(y+1):3*(y+1)])\n",
    "        D.append(i[3*(y):])\n",
    "    else:\n",
    "        A.append(i[:y])\n",
    "        B.append(i[y:2*(y)])\n",
    "        C.append(i[2*(y):3*(y)])\n",
    "        D.append(i[3*(y):])\n",
    "        \n",
    "\n",
    "word_df=pd.DataFrame(data=df.iloc[:,:2])\n",
    "word_df[\"選項一\"]=A\n",
    "word_df[\"選項二\"]=B\n",
    "word_df[\"選項三\"]=C\n",
    "word_df[\"選項四\"]=D\n",
    "\n",
    "word_df.to_csv('test_choice_4.csv',index=False, encoding=\"utf_8_sig\")"
   ]
  },
  {
   "cell_type": "code",
   "execution_count": null,
   "metadata": {},
   "outputs": [],
   "source": []
  }
 ],
 "metadata": {
  "kernelspec": {
   "display_name": "Python 3",
   "language": "python",
   "name": "python3"
  },
  "language_info": {
   "codemirror_mode": {
    "name": "ipython",
    "version": 3
   },
   "file_extension": ".py",
   "mimetype": "text/x-python",
   "name": "python",
   "nbconvert_exporter": "python",
   "pygments_lexer": "ipython3",
   "version": "3.7.3"
  }
 },
 "nbformat": 4,
 "nbformat_minor": 2
}
